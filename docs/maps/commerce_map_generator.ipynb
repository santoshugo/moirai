{
 "cells": [
  {
   "cell_type": "code",
   "execution_count": 294,
   "metadata": {},
   "outputs": [],
   "source": [
    "import numpy as np\n",
    "import pycristoforo as pyc\n",
    "import requests\n",
    "import itertools\n",
    "import geopy.distance"
   ]
  },
  {
   "cell_type": "code",
   "execution_count": 295,
   "metadata": {},
   "outputs": [],
   "source": [
    "nodes = []\n",
    "n_nodes = 10\n",
    "n_agents = 4"
   ]
  },
  {
   "cell_type": "code",
   "execution_count": 296,
   "metadata": {},
   "outputs": [],
   "source": [
    "n_suppliers = 3\n",
    "n_buyers = n_nodes - n_suppliers"
   ]
  },
  {
   "cell_type": "code",
   "execution_count": 297,
   "metadata": {},
   "outputs": [],
   "source": [
    "nodes_attributes = [\"id\", \"x\", \"y\", \"type\", \"products\"]"
   ]
  },
  {
   "cell_type": "code",
   "execution_count": 298,
   "metadata": {},
   "outputs": [],
   "source": [
    "products = [(\"banana\", 0, 10000), (\"orange\", 0, 10000), (\"strawbery\", 0, 1000), \n",
    "            (\"skip\", 0, 500), (\"meat\", 0, 600), (\"fish\", 0, 400), (\"spinach\", 0, 3000)]"
   ]
  },
  {
   "cell_type": "code",
   "execution_count": 299,
   "metadata": {},
   "outputs": [],
   "source": [
    "enough_resources_world = True"
   ]
  },
  {
   "cell_type": "code",
   "execution_count": 300,
   "metadata": {},
   "outputs": [],
   "source": [
    "prod = [p[0] for p in products]\n",
    "tots = [0 for i in products]\n",
    "\n",
    "for id_ in range(n_suppliers):\n",
    "    y,x= get_coordinates(\"PORTUGAL\")\n",
    "    \n",
    "    n_diff_products = np.random.randint(len(products))+1\n",
    "    products_to_use = np.random.choice(np.arange(len(products)), n_diff_products, False)\n",
    "    products_for_sale = {products[i][0]:np.random.randint(products[i][1],products[i][2]) for i in products_to_use}\n",
    "    \n",
    "    for p in products_for_sale:\n",
    "        index = prod.index(p)\n",
    "        tots[index] = tots[index]+products_for_sale[p]\n",
    "    \n",
    "    a = {\"id\":id_,\"x\":x,\"y\":y, \"type\":\"supplier\",\"products\":products_for_sale}\n",
    "    nodes.append(a)"
   ]
  },
  {
   "cell_type": "code",
   "execution_count": 301,
   "metadata": {},
   "outputs": [],
   "source": [
    "for id_ in range(n_suppliers, n_nodes):\n",
    "    y,x= get_coordinates(\"PORTUGAL\")\n",
    "    \n",
    "    n_diff_products = np.random.randint(len(products))+1\n",
    "    if enough_resources_world:\n",
    "        if sum(tots)<10:\n",
    "            break\n",
    "        products_to_use = [i for i,v in enumerate(tots) if v > 0]\n",
    "        products_to_use = np.random.choice(products_to_use, min(len(products_to_use),n_diff_products), False)\n",
    "        products_ordered = {products[i][0]:np.random.randint(products[i][1],tots[i]) for i in products_to_use}\n",
    "        for i in products_ordered:\n",
    "            tots[prod.index(i)] = tots[prod.index(i)] - products_ordered[i]\n",
    "    else:\n",
    "        products_to_use = np.random.choice(np.arange(len(products)), n_diff_products, False)\n",
    "        products_ordered = {products[i][0]:np.random.randint(products[i][1],products[i][2]) for i in products_to_use}\n",
    "    \n",
    "    for p in products_for_sale:\n",
    "        index = prod.index(p)\n",
    "        tots[index] = tots[index]+products_for_sale[p]\n",
    "    \n",
    "    a = {\"id\":id_,\"x\":x,\"y\":y, \"type\":\"buyer\",\"products\":products_ordered}\n",
    "    nodes.append(a)"
   ]
  },
  {
   "cell_type": "code",
   "execution_count": 302,
   "metadata": {},
   "outputs": [],
   "source": [
    "edges = []\n",
    "for i,j in itertools.combinations(np.arange(len(nodes)), 2):\n",
    "    #compute distance\n",
    "    coords_1 = (nodes[i]['x'], nodes[i]['y'])\n",
    "    coords_2 = (nodes[j]['x'], nodes[j]['y'])\n",
    "    dist = geopy.distance.distance(coords_1, coords_2).km\n",
    "    #create edge\n",
    "    edge = {\"node_1\":nodes[i]['id'], \"node_2\":nodes[j]['id'], 'distance':dist}\n",
    "    edges.append(edge)"
   ]
  },
  {
   "cell_type": "code",
   "execution_count": 303,
   "metadata": {},
   "outputs": [],
   "source": [
    "map_ = {\"nodes\":nodes, 'edges':edges, \"directed\": False, \"no_agents\":n_agents}"
   ]
  },
  {
   "cell_type": "code",
   "execution_count": 304,
   "metadata": {
    "collapsed": true
   },
   "outputs": [
    {
     "data": {
      "text/plain": [
       "{'nodes': [{'id': 0,\n",
       "   'x': -8.061410745460432,\n",
       "   'y': 39.933077277432425,\n",
       "   'type': 'supplier',\n",
       "   'products': {'strawbery': 140,\n",
       "    'fish': 264,\n",
       "    'meat': 290,\n",
       "    'spinach': 1274,\n",
       "    'skip': 197,\n",
       "    'orange': 1536,\n",
       "    'banana': 9771}},\n",
       "  {'id': 1,\n",
       "   'x': -8.554587731686716,\n",
       "   'y': 41.076596734966856,\n",
       "   'type': 'supplier',\n",
       "   'products': {'strawbery': 417,\n",
       "    'orange': 6579,\n",
       "    'spinach': 1609,\n",
       "    'fish': 161,\n",
       "    'meat': 537,\n",
       "    'skip': 315,\n",
       "    'banana': 1971}},\n",
       "  {'id': 2,\n",
       "   'x': -7.688011168498097,\n",
       "   'y': 40.126252071330356,\n",
       "   'type': 'supplier',\n",
       "   'products': {'meat': 591,\n",
       "    'strawbery': 860,\n",
       "    'banana': 7984,\n",
       "    'fish': 375,\n",
       "    'skip': 419,\n",
       "    'orange': 616}},\n",
       "  {'id': 3,\n",
       "   'x': -8.56716854244296,\n",
       "   'y': 41.15498350308525,\n",
       "   'type': 'buyer',\n",
       "   'products': {'orange': 673, 'skip': 398}},\n",
       "  {'id': 4,\n",
       "   'x': -8.561308658738561,\n",
       "   'y': 41.45134964201477,\n",
       "   'type': 'buyer',\n",
       "   'products': {'banana': 12376,\n",
       "    'fish': 1026,\n",
       "    'meat': 661,\n",
       "    'strawbery': 1298,\n",
       "    'orange': 5482,\n",
       "    'spinach': 675}},\n",
       "  {'id': 5,\n",
       "   'x': -8.042369062296505,\n",
       "   'y': 37.5100268846849,\n",
       "   'type': 'buyer',\n",
       "   'products': {'spinach': 2176}},\n",
       "  {'id': 6,\n",
       "   'x': -8.172503524204838,\n",
       "   'y': 39.60710744015826,\n",
       "   'type': 'buyer',\n",
       "   'products': {'skip': 299,\n",
       "    'orange': 3243,\n",
       "    'banana': 19293,\n",
       "    'fish': 143,\n",
       "    'spinach': 7,\n",
       "    'strawbery': 336,\n",
       "    'meat': 269}},\n",
       "  {'id': 7,\n",
       "   'x': -7.699850271369208,\n",
       "   'y': 39.84501677593036,\n",
       "   'type': 'buyer',\n",
       "   'products': {'spinach': 0}},\n",
       "  {'id': 8,\n",
       "   'x': -9.154228908128012,\n",
       "   'y': 38.45192193133841,\n",
       "   'type': 'buyer',\n",
       "   'products': {'orange': 2275,\n",
       "    'strawbery': 520,\n",
       "    'banana': 406,\n",
       "    'fish': 121,\n",
       "    'meat': 2018,\n",
       "    'skip': 933}},\n",
       "  {'id': 9,\n",
       "   'x': -8.53533163752454,\n",
       "   'y': 38.92772006207152,\n",
       "   'type': 'buyer',\n",
       "   'products': {'orange': 18, 'strawbery': 3495, 'skip': 219, 'spinach': 13}}],\n",
       " 'edges': [{'node_1': 0, 'node_2': 1, 'distance': 137.27022519487403},\n",
       "  {'node_1': 0, 'node_2': 2, 'distance': 46.46693624412757},\n",
       "  {'node_1': 0, 'node_2': 3, 'distance': 145.76105431181008},\n",
       "  {'node_1': 0, 'node_2': 4, 'distance': 176.15051491803422},\n",
       "  {'node_1': 0, 'node_2': 5, 'distance': 267.0990591631893},\n",
       "  {'node_1': 0, 'node_2': 6, 'distance': 37.9685448938594},\n",
       "  {'node_1': 0, 'node_2': 7, 'distance': 41.149095172129904},\n",
       "  {'node_1': 0, 'node_2': 8, 'distance': 202.94899647398273},\n",
       "  {'node_1': 0, 'node_2': 9, 'distance': 122.52817512753792},\n",
       "  {'node_1': 1, 'node_2': 2, 'distance': 141.96889946439208},\n",
       "  {'node_1': 1, 'node_2': 3, 'distance': 8.740850971305266},\n",
       "  {'node_1': 1, 'node_2': 4, 'distance': 41.26256899765365},\n",
       "  {'node_1': 1, 'node_2': 5, 'distance': 396.9594462848677},\n",
       "  {'node_1': 1, 'node_2': 6, 'distance': 167.27964427705825},\n",
       "  {'node_1': 1, 'node_2': 7, 'distance': 165.40444942914084},\n",
       "  {'node_1': 1, 'node_2': 8, 'distance': 296.235680638509},\n",
       "  {'node_1': 1, 'node_2': 9, 'distance': 236.58326494032127},\n",
       "  {'node_1': 2, 'node_2': 3, 'distance': 149.35752122144382},\n",
       "  {'node_1': 2, 'node_2': 4, 'distance': 175.08613149475468},\n",
       "  {'node_1': 2, 'node_2': 5, 'distance': 291.1637900155667},\n",
       "  {'node_1': 2, 'node_2': 6, 'distance': 78.40734862767162},\n",
       "  {'node_1': 2, 'node_2': 7, 'distance': 31.054600907926627},\n",
       "  {'node_1': 2, 'node_2': 8, 'distance': 245.54749218931389},\n",
       "  {'node_1': 2, 'node_2': 9, 'distance': 161.95717584936887},\n",
       "  {'node_1': 3, 'node_2': 4, 'distance': 32.63231607572037},\n",
       "  {'node_1': 3, 'node_2': 5, 'distance': 405.69835529310353},\n",
       "  {'node_1': 3, 'node_2': 6, 'distance': 175.98417968607305},\n",
       "  {'node_1': 3, 'node_2': 7, 'distance': 173.3282667458607},\n",
       "  {'node_1': 3, 'node_2': 8, 'distance': 304.3407429185068},\n",
       "  {'node_1': 3, 'node_2': 9, 'distance': 245.2246534017213},\n",
       "  {'node_1': 4, 'node_2': 5, 'distance': 437.95240475773693},\n",
       "  {'node_1': 4, 'node_2': 6, 'distance': 207.63042663376467},\n",
       "  {'node_1': 4, 'node_2': 7, 'distance': 201.03821005896035},\n",
       "  {'node_1': 4, 'node_2': 8, 'distance': 336.3902100401915},\n",
       "  {'node_1': 4, 'node_2': 9, 'distance': 277.8431812331339},\n",
       "  {'node_1': 5, 'node_2': 6, 'distance': 231.57548638927878},\n",
       "  {'node_1': 5, 'node_2': 7, 'distance': 260.26787946265273},\n",
       "  {'node_1': 5, 'node_2': 8, 'distance': 160.84496487924983},\n",
       "  {'node_1': 5, 'node_2': 9, 'distance': 165.42133504478184},\n",
       "  {'node_1': 6, 'node_2': 7, 'distance': 58.48598129608363},\n",
       "  {'node_1': 6, 'node_2': 8, 'distance': 167.19050595951944},\n",
       "  {'node_1': 6, 'node_2': 9, 'distance': 84.91197113320919},\n",
       "  {'node_1': 7, 'node_2': 8, 'distance': 222.27941457339796},\n",
       "  {'node_1': 7, 'node_2': 9, 'distance': 136.9610284238022},\n",
       "  {'node_1': 8, 'node_2': 9, 'distance': 86.16780579325919}],\n",
       " 'directed': False,\n",
       " 'no_agents': 4}"
      ]
     },
     "execution_count": 304,
     "metadata": {},
     "output_type": "execute_result"
    }
   ],
   "source": [
    "map_"
   ]
  },
  {
   "cell_type": "code",
   "execution_count": 305,
   "metadata": {},
   "outputs": [],
   "source": [
    "import json\n",
    "\n",
    "with open('map_commerce1.json', 'w') as fp:\n",
    "    json.dump(map_, fp)"
   ]
  },
  {
   "cell_type": "code",
   "execution_count": null,
   "metadata": {},
   "outputs": [],
   "source": []
  },
  {
   "cell_type": "code",
   "execution_count": null,
   "metadata": {},
   "outputs": [],
   "source": []
  },
  {
   "cell_type": "code",
   "execution_count": null,
   "metadata": {},
   "outputs": [],
   "source": []
  },
  {
   "cell_type": "code",
   "execution_count": 251,
   "metadata": {},
   "outputs": [],
   "source": [
    "f = open(\"C:\\\\Users\\\\Pedro\\\\Documents\\\\MultiAgentMarket\\\\keys\\\\maps_ppreto_key.txt\", \"r\")\n",
    "key = f.read()\n",
    "##prepare request string and make request\n",
    "points_call = \"|\".join([str(i['x']) + \",\" + str(i['y']) for i in nodes])\n",
    "dm = requests.get(\n",
    "    \"https://maps.googleapis.com/maps/api/distancematrix/json?origins={ori}&destinations={dest}&key={key}\".format(\n",
    "        ori=points_call, dest=points_call, key=key))\n",
    "## put it in the required format\n",
    "dm_dict = {'response': dm.json, 'points_ids': [i['id'] for i in nodes], 'points_coor': [(i['x'], i['y']) for i in nodes], 'size': len(nodes)}"
   ]
  },
  {
   "cell_type": "code",
   "execution_count": null,
   "metadata": {},
   "outputs": [],
   "source": [
    "def get_coordinates(country):\n",
    "    shape = pyc.get_shape(country)\n",
    "    point = pyc.geoloc_generation(shape, 1, \"PORTUGAL\")\n",
    "    return [(p['geometry']['coordinates'][1], p['geometry']['coordinates'][0]) for p in point][0]"
   ]
  }
 ],
 "metadata": {
  "kernelspec": {
   "display_name": "Python 3",
   "language": "python",
   "name": "python3"
  },
  "language_info": {
   "codemirror_mode": {
    "name": "ipython",
    "version": 3
   },
   "file_extension": ".py",
   "mimetype": "text/x-python",
   "name": "python",
   "nbconvert_exporter": "python",
   "pygments_lexer": "ipython3",
   "version": "3.7.3"
  }
 },
 "nbformat": 4,
 "nbformat_minor": 2
}
